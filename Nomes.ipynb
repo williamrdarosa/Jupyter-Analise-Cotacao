{
 "cells": [
  {
   "cell_type": "code",
   "execution_count": 29,
   "id": "673695fc-222d-42a1-9b4a-16c26764109b",
   "metadata": {},
   "outputs": [],
   "source": [
    "from funcoes import Tabela, Excel, dados, imprimir\n",
    "from bot import Programa, data_agora, codigos"
   ]
  },
  {
   "cell_type": "code",
   "execution_count": 30,
   "id": "cdccea80-744b-479e-9e16-ec9b9201893d",
   "metadata": {},
   "outputs": [
    {
     "name": "stdin",
     "output_type": "stream",
     "text": [
      "Digite um nome:  Maria\n"
     ]
    }
   ],
   "source": [
    "nome = input(\"Digite um nome: \")"
   ]
  },
  {
   "cell_type": "code",
   "execution_count": 31,
   "id": "2bde51ea-cc82-458e-a9fd-a2aff691a79e",
   "metadata": {},
   "outputs": [],
   "source": [
    "r = dados(f'https://servicodados.ibge.gov.br/api/v2/censos/nomes/{nome}')"
   ]
  },
  {
   "cell_type": "code",
   "execution_count": 32,
   "id": "81752f53-06c2-472b-bc03-3894c23b3384",
   "metadata": {},
   "outputs": [
    {
     "data": {
      "text/plain": [
       "[{'nome': 'MARIA',\n",
       "  'sexo': None,\n",
       "  'localidade': 'BR',\n",
       "  'res': [{'periodo': '1930[', 'frequencia': 336477},\n",
       "   {'periodo': '[1930,1940[', 'frequencia': 749053},\n",
       "   {'periodo': '[1940,1950[', 'frequencia': 1487042},\n",
       "   {'periodo': '[1950,1960[', 'frequencia': 2476482},\n",
       "   {'periodo': '[1960,1970[', 'frequencia': 2495491},\n",
       "   {'periodo': '[1970,1980[', 'frequencia': 1616019},\n",
       "   {'periodo': '[1980,1990[', 'frequencia': 917968},\n",
       "   {'periodo': '[1990,2000[', 'frequencia': 544296},\n",
       "   {'periodo': '[2000,2010[', 'frequencia': 1111301}]}]"
      ]
     },
     "execution_count": 32,
     "metadata": {},
     "output_type": "execute_result"
    }
   ],
   "source": [
    "r"
   ]
  },
  {
   "cell_type": "code",
   "execution_count": 33,
   "id": "6846b383-e4b9-4a6f-917d-fe81209798a0",
   "metadata": {},
   "outputs": [
    {
     "data": {
      "text/html": [
       "<div>\n",
       "<style scoped>\n",
       "    .dataframe tbody tr th:only-of-type {\n",
       "        vertical-align: middle;\n",
       "    }\n",
       "\n",
       "    .dataframe tbody tr th {\n",
       "        vertical-align: top;\n",
       "    }\n",
       "\n",
       "    .dataframe thead th {\n",
       "        text-align: right;\n",
       "    }\n",
       "</style>\n",
       "<table border=\"1\" class=\"dataframe\">\n",
       "  <thead>\n",
       "    <tr style=\"text-align: right;\">\n",
       "      <th></th>\n",
       "      <th>Período</th>\n",
       "      <th>Frequência</th>\n",
       "    </tr>\n",
       "  </thead>\n",
       "  <tbody>\n",
       "    <tr>\n",
       "      <th>0</th>\n",
       "      <td>1930</td>\n",
       "      <td>336477</td>\n",
       "    </tr>\n",
       "    <tr>\n",
       "      <th>1</th>\n",
       "      <td>1930 - 1940</td>\n",
       "      <td>749053</td>\n",
       "    </tr>\n",
       "    <tr>\n",
       "      <th>2</th>\n",
       "      <td>1940 - 1950</td>\n",
       "      <td>1487042</td>\n",
       "    </tr>\n",
       "    <tr>\n",
       "      <th>3</th>\n",
       "      <td>1950 - 1960</td>\n",
       "      <td>2476482</td>\n",
       "    </tr>\n",
       "    <tr>\n",
       "      <th>4</th>\n",
       "      <td>1960 - 1970</td>\n",
       "      <td>2495491</td>\n",
       "    </tr>\n",
       "    <tr>\n",
       "      <th>5</th>\n",
       "      <td>1970 - 1980</td>\n",
       "      <td>1616019</td>\n",
       "    </tr>\n",
       "    <tr>\n",
       "      <th>6</th>\n",
       "      <td>1980 - 1990</td>\n",
       "      <td>917968</td>\n",
       "    </tr>\n",
       "    <tr>\n",
       "      <th>7</th>\n",
       "      <td>1990 - 2000</td>\n",
       "      <td>544296</td>\n",
       "    </tr>\n",
       "    <tr>\n",
       "      <th>8</th>\n",
       "      <td>2000 - 2010</td>\n",
       "      <td>1111301</td>\n",
       "    </tr>\n",
       "  </tbody>\n",
       "</table>\n",
       "</div>"
      ],
      "text/plain": [
       "       Período  Frequência\n",
       "0         1930      336477\n",
       "1  1930 - 1940      749053\n",
       "2  1940 - 1950     1487042\n",
       "3  1950 - 1960     2476482\n",
       "4  1960 - 1970     2495491\n",
       "5  1970 - 1980     1616019\n",
       "6  1980 - 1990      917968\n",
       "7  1990 - 2000      544296\n",
       "8  2000 - 2010     1111301"
      ]
     },
     "execution_count": 33,
     "metadata": {},
     "output_type": "execute_result"
    }
   ],
   "source": [
    "tabelan = Tabela()\n",
    "tabelan.criar(r[0]['res'])\n",
    "dicionario = {\"periodo\":\"Período\",\"frequencia\":\"Frequência\"}\n",
    "tabelan.renomear_coluna(dicionario)\n",
    "tabelan.coluna_num(['Frequência'])\n",
    "tabelan.df['Período'] = tabelan.df['Período'].apply(lambda x: x.replace(\"[\", \"\").replace(\",\", \" - \"))\n",
    "tabelan.df"
   ]
  },
  {
   "cell_type": "code",
   "execution_count": 34,
   "id": "85630c83-0af2-4327-8dd7-c393f30bf106",
   "metadata": {},
   "outputs": [],
   "source": [
    "Arquivo = Excel('Nome')\n",
    "\n",
    "pasta = Arquivo.pasta()\n",
    "\n",
    "planilha = Arquivo.planilha(pasta, 'Nome')\n",
    "\n",
    "Arquivo.excluir_planilha(pasta, 'Sheet')\n",
    "\n",
    "Arquivo.tabela(tabelan.df, planilha)\n",
    "\n",
    "Arquivo.form_centralizar(planilha, [\"A\", \"B\"])\n",
    "\n",
    "Arquivo.alinhar(planilha)\n",
    "\n",
    "planilhaDados = Arquivo.planilha(pasta, f'Dados {nome}')\n",
    "\n",
    "Arquivo.grafico_linha(planilha, planilhaDados, tabelan.df, f\"Gráfico Nome: {nome}\", \"Período\",  \"Frequência\", \"D3\", \"#,##0\")\n",
    "\n",
    "Arquivo.ocultar_planilha(planilhaDados)\n",
    "\n",
    "Arquivo.inserir_linha(planilha, 1, 2)\n",
    "\n",
    "Arquivo.escrever(planilha, 'A1', 'Gráfico Temporal')\n",
    "\n",
    "Arquivo.estilo(planilha, 'A1', 18, '00FFFFFF', True, True)\n",
    "\n",
    "Arquivo.mesclar(planilha, \"A1:L1\")\n",
    "\n",
    "Arquivo.estilo(planilha, 'A2', 11, '00CCCCFF', False, False, False)\n",
    "\n",
    "Arquivo.mesclar(planilha, \"A2:L2\")\n",
    "\n",
    "Arquivo.estilo(planilha, 'C3', 11, '00CCCCFF', False, False, False)\n",
    "\n",
    "Arquivo.mesclar(planilha, \"C3:L17\")\n",
    "\n",
    "Arquivo.estilo(planilha, 'A13', 11, '00CCCCFF', False, False, False)\n",
    "\n",
    "Arquivo.mesclar(planilha, \"A13:B17\")\n",
    "\n",
    "Arquivo.impressora(planilha)\n",
    "\n",
    "Arquivo.salvar(pasta)\n",
    "\n",
    "imprimir(0, 'Nome')"
   ]
  },
  {
   "cell_type": "code",
   "execution_count": 35,
   "id": "dc0cc741-3ed2-421d-8eab-7b4e53a5ce54",
   "metadata": {},
   "outputs": [],
   "source": [
    "BOT = codigos(\"BOT\")\n",
    "USER = codigos(\"USER\")\n",
    "\n",
    "bot = Programa(BOT)\n",
    "\n",
    "bot.falar(USER, f\"💬 **Frequência Nome: {nome}** 💬\")\n",
    "\n",
    "bot.enviar_arquivo(USER, \"./Nome.xlsx\")\n",
    "\n",
    "bot.enviar_arquivo(USER, \"./Nome.pdf\")\n",
    "\n",
    "bot.falar(USER, f\"💬 **Frequência Nome: {nome}** 💬\")"
   ]
  }
 ],
 "metadata": {
  "kernelspec": {
   "display_name": "Python 3 (ipykernel)",
   "language": "python",
   "name": "python3"
  },
  "language_info": {
   "codemirror_mode": {
    "name": "ipython",
    "version": 3
   },
   "file_extension": ".py",
   "mimetype": "text/x-python",
   "name": "python",
   "nbconvert_exporter": "python",
   "pygments_lexer": "ipython3",
   "version": "3.10.9"
  }
 },
 "nbformat": 4,
 "nbformat_minor": 5
}
