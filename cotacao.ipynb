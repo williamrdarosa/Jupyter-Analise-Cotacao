{
 "cells": [
  {
   "cell_type": "markdown",
   "id": "c3fac3c1-5bd0-4d4b-b316-fd5c4783e8d5",
   "metadata": {
    "tags": []
   },
   "source": [
    "# Cotação de Moedas"
   ]
  },
  {
   "cell_type": "markdown",
   "id": "77fd83ee-50af-4471-8b55-2a3b4211a71a",
   "metadata": {
    "tags": []
   },
   "source": [
    "## Importando Funções"
   ]
  },
  {
   "cell_type": "code",
   "execution_count": 5,
   "id": "4c76a83e-408d-4b65-9644-68d746f419d7",
   "metadata": {},
   "outputs": [
    {
     "ename": "SyntaxError",
     "evalue": "invalid syntax (4161681879.py, line 3)",
     "output_type": "error",
     "traceback": [
      "\u001b[1;36m  Cell \u001b[1;32mIn[5], line 3\u001b[1;36m\u001b[0m\n\u001b[1;33m    dir_path = dir_path\"\\\\..\"\u001b[0m\n\u001b[1;37m                       ^\u001b[0m\n\u001b[1;31mSyntaxError\u001b[0m\u001b[1;31m:\u001b[0m invalid syntax\n"
     ]
    }
   ],
   "source": [
    "import os\n",
    "dir_path = os.path.dirname(os.path.realpath('__file__'))\n",
    "dir_path = dir_path\"\\\\..\""
   ]
  },
  {
   "cell_type": "code",
   "execution_count": 1,
   "id": "1aa83889-d984-4e5e-a39c-6e83e9082a38",
   "metadata": {},
   "outputs": [
    {
     "ename": "ModuleNotFoundError",
     "evalue": "No module named 'funcoes'",
     "output_type": "error",
     "traceback": [
      "\u001b[1;31m---------------------------------------------------------------------------\u001b[0m",
      "\u001b[1;31mModuleNotFoundError\u001b[0m                       Traceback (most recent call last)",
      "Cell \u001b[1;32mIn[1], line 1\u001b[0m\n\u001b[1;32m----> 1\u001b[0m \u001b[38;5;28;01mfrom\u001b[39;00m \u001b[38;5;21;01mfuncoes\u001b[39;00m\u001b[38;5;21;01m.\u001b[39;00m\u001b[38;5;21;01mfuncoes\u001b[39;00m \u001b[38;5;28;01mimport\u001b[39;00m Tabela, Excel, dados, imprimir\n\u001b[0;32m      2\u001b[0m \u001b[38;5;28;01mfrom\u001b[39;00m \u001b[38;5;21;01mfuncoes\u001b[39;00m\u001b[38;5;21;01m.\u001b[39;00m\u001b[38;5;21;01mbot\u001b[39;00m \u001b[38;5;28;01mimport\u001b[39;00m Programa, data_agora, codigos\n",
      "\u001b[1;31mModuleNotFoundError\u001b[0m: No module named 'funcoes'"
     ]
    }
   ],
   "source": [
    "from ..funcoes.funcoes import Tabela, Excel, dados, imprimir\n",
    "from funcoes.bot import Programa, data_agora, codigos"
   ]
  },
  {
   "cell_type": "markdown",
   "id": "e62eeb67-33d9-4084-8ef7-1344859c92a8",
   "metadata": {
    "tags": []
   },
   "source": [
    "## Baixar dados da API"
   ]
  },
  {
   "cell_type": "markdown",
   "id": "ab9ca4ea-6da8-4874-8264-52328d1f7006",
   "metadata": {},
   "source": [
    "- Baixar dados em Json do resumo de cotação das moedas Dólar, Euro, Peso e Libra."
   ]
  },
  {
   "cell_type": "code",
   "execution_count": null,
   "id": "7e3871e5-e5d1-4a6b-8820-9cffa2c1cf25",
   "metadata": {},
   "outputs": [],
   "source": [
    "r = dados('https://economia.awesomeapi.com.br/last/USD-BRL,EUR-BRL,ARS-BRL,GBP-BRL')"
   ]
  },
  {
   "cell_type": "code",
   "execution_count": null,
   "id": "e6ae388b-c9c4-445f-8d7b-c3c64644be52",
   "metadata": {},
   "outputs": [],
   "source": [
    "r"
   ]
  },
  {
   "cell_type": "markdown",
   "id": "6eb1065c-c33e-4357-89a8-8678c8df0b4c",
   "metadata": {},
   "source": [
    "## Criando as Tabelas"
   ]
  },
  {
   "cell_type": "markdown",
   "id": "98fea241-b684-4935-9b86-233a66a9d141",
   "metadata": {
    "tags": []
   },
   "source": [
    "### Tabela Resumo Informações"
   ]
  },
  {
   "cell_type": "markdown",
   "id": "d9d19d94-9980-46ed-9820-b04afa0f6559",
   "metadata": {},
   "source": [
    "- Converter dados em Json para planilha.\n",
    "- Excluir coluna **timestamp**.\n",
    "- Traduzir cabeçalhos.\n",
    "- Converter números.\n",
    "- Converter data."
   ]
  },
  {
   "cell_type": "code",
   "execution_count": null,
   "id": "0bb8b619-9d9f-45ce-8287-0c9dc56faac8",
   "metadata": {},
   "outputs": [],
   "source": [
    "tabelaG = Tabela()\n",
    "\n",
    "tabelaG.criar(r, ['USDBRL','EURBRL','ARSBRL','GBPBRL'])\n",
    "\n",
    "tabelaG.excluir_coluna(['timestamp'])\n",
    "\n",
    "dicionario = {'code':'Moeda Estrangeira','codein':'Moeda Local','name':'Nome','high':'Máximo','low':'Mínimo','varBid':'Variação','pctChange':'Porcentagem de Variação','bid':'Compra','ask':'Venda','timestamp':'Data','create_date':'Data'}\n",
    "\n",
    "tabelaG.renomear_coluna(dicionario)\n",
    "\n",
    "tabelaG.coluna_num(['Máximo', 'Mínimo', 'Variação', 'Porcentagem de Variação', 'Compra', 'Venda'])\n",
    "\n",
    "tabelaG.coluna_data(['Data'])\n",
    "\n",
    "tabelaG.df"
   ]
  },
  {
   "cell_type": "markdown",
   "id": "f118a698-cb14-40f3-a136-de0c4ed2d264",
   "metadata": {
    "tags": []
   },
   "source": [
    "### Função Tabela Série Cotação de Moedas"
   ]
  },
  {
   "cell_type": "markdown",
   "id": "12e4a44a-98a6-467b-b5dd-3085257359c2",
   "metadata": {},
   "source": [
    "- Criar função.\n",
    "- Excluir tabela **create_date**.\n",
    "- Traduzir cabeçalhos.\n",
    "- Preencher linhas vazias.\n",
    "- Formatar data.\n",
    "- Converter números.\n",
    "- Converter data."
   ]
  },
  {
   "cell_type": "code",
   "execution_count": null,
   "id": "f36c22de-81f1-47e8-b702-46c1c9103ce2",
   "metadata": {},
   "outputs": [],
   "source": [
    "def tabela(r):\n",
    "    r = dados(r)\n",
    "    tabela = Tabela()\n",
    "\n",
    "    tabela.criar(r)\n",
    "\n",
    "    tabela.excluir_coluna(['create_date'])\n",
    "\n",
    "    dicionario = {'code':'Moeda Estrangeira','codein':'Moeda Local','name':'Nome','high':'Máximo','low':'Mínimo','varBid':'Variação','pctChange':'Porcentagem de Variação','bid':'Compra','ask':'Venda','timestamp':'Data','create_date':'Data'}\n",
    "\n",
    "    tabela.renomear_coluna(dicionario)\n",
    "\n",
    "    tabela.duplicar_info(['Moeda Estrangeira', 'Moeda Local', 'Nome'])\n",
    "\n",
    "    tabela.converter_data(['Data'])\n",
    "\n",
    "    tabela.coluna_num(['Máximo', 'Mínimo', 'Variação', 'Porcentagem de Variação', 'Compra', 'Venda'])\n",
    "\n",
    "    tabela.coluna_data(['Data'])\n",
    "\n",
    "    return tabela.df"
   ]
  },
  {
   "cell_type": "markdown",
   "id": "2c30c736-9a79-4973-9539-51002c02afa2",
   "metadata": {
    "tags": []
   },
   "source": [
    "### Tabelas com Séries de Cotações das Moedas Dólar, Euro, Peso e Libra"
   ]
  },
  {
   "cell_type": "code",
   "execution_count": null,
   "id": "4bbd2fa7-5b55-46af-8de6-c6d057cff248",
   "metadata": {},
   "outputs": [],
   "source": [
    "tabelaDolar = tabela('https://economia.awesomeapi.com.br/json/daily/USD-BRL/15')\n",
    "tabelaDolar.head()"
   ]
  },
  {
   "cell_type": "code",
   "execution_count": null,
   "id": "97ef75bc-5d90-4547-aa56-a9c5b8fac77e",
   "metadata": {},
   "outputs": [],
   "source": [
    "tabelaEuro = tabela('https://economia.awesomeapi.com.br/json/daily/EUR-BRL/15')"
   ]
  },
  {
   "cell_type": "code",
   "execution_count": null,
   "id": "918ffb43-4ea3-427c-aa86-8a65a30a1e44",
   "metadata": {},
   "outputs": [],
   "source": [
    "tabelaPeso = tabela('https://economia.awesomeapi.com.br/json/daily/ARS-BRL/15')"
   ]
  },
  {
   "cell_type": "code",
   "execution_count": null,
   "id": "46aa07b6-5bd5-46e7-a580-6e287da0a4f9",
   "metadata": {},
   "outputs": [],
   "source": [
    "tabelaLibra = tabela('https://economia.awesomeapi.com.br/json/daily/GBP-BRL/15')"
   ]
  },
  {
   "cell_type": "markdown",
   "id": "55e99a21-3718-47c2-a3c7-06fe4010b633",
   "metadata": {},
   "source": [
    "## Gerar o Arquivo de Excel e PDF"
   ]
  },
  {
   "cell_type": "markdown",
   "id": "edfc4f7d-bddc-4dc8-88f2-9069bbb06d0c",
   "metadata": {},
   "source": [
    "### Criar o Arquivo Excel, a Planilha do Resumo das Cotações"
   ]
  },
  {
   "cell_type": "markdown",
   "id": "a6540472-ea9a-4c18-94e7-8f99e6391433",
   "metadata": {},
   "source": [
    "- Criar o arquivo.\n",
    "- Criar a planilha com a tabela do resumo das cotações.\n",
    "- Excluir planilha **Sheet** criada automaticamente.\n",
    "- Inserir dados da planilha.\n",
    "- Formatar Data.\n",
    "- Formatar a porcentagem.\n",
    "- Centralizar dados.\n",
    "- Alinhar colunas."
   ]
  },
  {
   "cell_type": "code",
   "execution_count": null,
   "id": "ebaea744-07a0-4f40-9df5-7617af990351",
   "metadata": {},
   "outputs": [],
   "source": [
    "Arquivo = Excel('Cotação')\n",
    "\n",
    "pasta = Arquivo.pasta()\n",
    "\n",
    "# Planilha Tabela Geral\n",
    "\n",
    "planilhaTabelaG = Arquivo.planilha(pasta, 'Cotação')\n",
    "\n",
    "Arquivo.excluir_planilha(pasta, 'Sheet')\n",
    "\n",
    "Arquivo.tabela(tabelaG.df, planilhaTabelaG)\n",
    "\n",
    "Arquivo.form_data(planilhaTabelaG, [\"J\"])\n",
    "\n",
    "Arquivo.form_porcentagem(planilhaTabelaG, [\"G\"])\n",
    "\n",
    "Arquivo.form_centralizar(planilhaTabelaG, [\"A\", \"B\", \"D\", \"E\", \"F\", \"G\", \"H\", \"I\", \"J\"])\n",
    "\n",
    "Arquivo.alinhar(planilhaTabelaG)"
   ]
  },
  {
   "cell_type": "markdown",
   "id": "45c8dd3a-b237-497c-bccc-7e07167c935b",
   "metadata": {},
   "source": [
    "### Criar Planilha de Gráficos"
   ]
  },
  {
   "cell_type": "code",
   "execution_count": null,
   "id": "442ef3b5-9be7-4df9-b524-48625096f04f",
   "metadata": {},
   "outputs": [],
   "source": [
    "# Planilha Gráficos\n",
    "\n",
    "planilhaGraficos = Arquivo.planilha(pasta, 'Gráficos')"
   ]
  },
  {
   "cell_type": "markdown",
   "id": "107b09ab-fb4c-4899-a9f0-c234f55c6d42",
   "metadata": {},
   "source": [
    "### Função para Criar Planilha de Séries, Planilha de Dados e Inserir Dados na Planilha Gráficos"
   ]
  },
  {
   "cell_type": "markdown",
   "id": "81c68929-77c2-4f2b-937f-2e791cbe1f75",
   "metadata": {},
   "source": [
    "- Criar planilha com a série de dados.\n",
    "- Inserir dados da série das cotações na planilha séries.\n",
    "- Formatar data, porcentagem, centralizar dados e alinhar colunas na planilha séries.\n",
    "- Criar planilha de dados.\n",
    "- Inserir dados do gráfico na planilha dados, criar o gráfico na planilha gráficos.\n",
    "- Ocultar a planilha de dados."
   ]
  },
  {
   "cell_type": "code",
   "execution_count": null,
   "id": "3f8b2efe-55e9-4e45-88bb-11e3364cf02b",
   "metadata": {},
   "outputs": [],
   "source": [
    "def planilha(pasta, nome, df, c):\n",
    "\n",
    "    planilhaSerie = Arquivo.planilha(pasta, f'Série {nome}')\n",
    "\n",
    "    Arquivo.tabela(df, planilhaSerie)\n",
    "\n",
    "    Arquivo.form_data(planilhaSerie, [\"J\"])\n",
    "\n",
    "    Arquivo.form_porcentagem(planilhaSerie, [\"G\"])\n",
    "\n",
    "    Arquivo.form_centralizar(planilhaSerie, [\"A\", \"B\", \"D\", \"E\", \"F\", \"G\", \"H\", \"I\", \"J\"])\n",
    "\n",
    "    Arquivo.alinhar(planilhaSerie)\n",
    "\n",
    "    # Planilha Gráfico\n",
    "\n",
    "    planilhaDados = Arquivo.planilha(pasta, f'Dados {nome}')\n",
    "\n",
    "    Arquivo.grafico_linha(planilhaGraficos, planilhaDados, df, f\"Gráfico {nome}\", \"Data\",  \"Venda\", c)\n",
    "\n",
    "    Arquivo.ocultar_planilha(planilhaDados)"
   ]
  },
  {
   "cell_type": "markdown",
   "id": "eb81acbc-f782-42cd-80c6-d63cd1b654e8",
   "metadata": {},
   "source": [
    "### Utilizar a Função Planilha para Criar as Planilhas de Dólar, Euro, Peso e Libra"
   ]
  },
  {
   "cell_type": "code",
   "execution_count": null,
   "id": "4722c56e-b6c5-458e-902d-5507bf3a7dad",
   "metadata": {},
   "outputs": [],
   "source": [
    "planilha(pasta, 'Dolar', tabelaDolar, \"A3\")\n",
    "\n",
    "planilha(pasta, 'Euro', tabelaEuro, \"A18\")\n",
    "\n",
    "planilha(pasta, 'Peso', tabelaPeso, \"K3\")\n",
    "\n",
    "planilha(pasta, 'Libra', tabelaLibra, \"K18\")"
   ]
  },
  {
   "cell_type": "markdown",
   "id": "c3627966-738a-4237-b8eb-6e69564a8039",
   "metadata": {},
   "source": [
    "### Formatar a Planilha de Gráficos, Configurar a Impressão, Salvar o Excel e Salvar PDF"
   ]
  },
  {
   "cell_type": "markdown",
   "id": "44e514e4-4643-4eda-954f-044b54f45ddb",
   "metadata": {},
   "source": [
    "- Escrever o título na célula A1, na planilha de gráfico.\n",
    "- Formatar célula A1 com o tamanho de fonte 18, cor RGB 00FFFFFF e ativar negrito e centralizar.\n",
    "- Mesclar células A1:S1.\n",
    "- Formatar célula A2 com o tamanho de fonte 11, cor RGB 00CCCCFF.\n",
    "- Mesclar células A2:S32.\n",
    "- Alterar configurações de impressão planilha de gráficos, para imprimir em uma folha na horizontal.\n",
    "- Salvar a planilha.\n",
    "- Imprimir planilha Gráficos em PDF."
   ]
  },
  {
   "cell_type": "code",
   "execution_count": null,
   "id": "af69bb36-8848-4490-aa2a-d7e61ec7aa60",
   "metadata": {},
   "outputs": [],
   "source": [
    "Arquivo.escrever(planilhaGraficos, 'A1', 'Gráficos Temporais')\n",
    "\n",
    "Arquivo.estilo(planilhaGraficos, 'A1', 18, '00FFFFFF', True, True)\n",
    "\n",
    "Arquivo.mesclar(planilhaGraficos, \"A1:S1\")\n",
    "\n",
    "Arquivo.estilo(planilhaGraficos, 'A2', 11, '00CCCCFF', False, False)\n",
    "\n",
    "Arquivo.mesclar(planilhaGraficos, \"A2:S32\")\n",
    "\n",
    "Arquivo.impressora(planilhaGraficos)\n",
    "\n",
    "Arquivo.salvar(pasta)\n",
    "\n",
    "imprimir(1, 'Cotação')"
   ]
  },
  {
   "cell_type": "markdown",
   "id": "86c51b3e-42d5-4b1a-93a8-9418a3996b50",
   "metadata": {},
   "source": [
    "## Enviar Arquivos pelo Telegram"
   ]
  },
  {
   "cell_type": "markdown",
   "id": "2c2cfd68-92f7-4dac-a65b-7c42decaca27",
   "metadata": {},
   "source": [
    "- Inicializar o bot.\n",
    "- enviar a mensagem \"⚠️ **Atualização de Cotações** ⚠️\"\n",
    "- Enviar o arquivo **Excel**.\n",
    "- Enviar o arquivo **PDF**.\n",
    "- Enviar a mensagem com a hora da atualização.\n",
    "- enviar a mensagem \"⚠️ **Atualização de Cotações** ⚠️\""
   ]
  },
  {
   "cell_type": "code",
   "execution_count": null,
   "id": "9f397b1e-4e19-4e44-b290-9fd3a5d8e876",
   "metadata": {},
   "outputs": [],
   "source": [
    "BOT = codigos(\"BOT\")\n",
    "USER = codigos(\"USER\")\n",
    "\n",
    "bot = Programa(BOT)\n",
    "\n",
    "bot.falar(USER, \"⚠️ **Atualização de Cotações** ⚠️\")\n",
    "\n",
    "bot.enviar_arquivo(USER, \"./Cotação.xlsx\")\n",
    "\n",
    "bot.enviar_arquivo(USER, \"./Cotação.png\")\n",
    "\n",
    "bot.falar(USER, f\"🕗 Atualização da Base: **{data_agora()}**\")\n",
    "\n",
    "bot.falar(USER, \"⚠️ **Atualização de Cotações** ⚠️\")"
   ]
  },
  {
   "cell_type": "code",
   "execution_count": null,
   "id": "9fee89f0-d7ba-481c-80a8-3d390764b453",
   "metadata": {},
   "outputs": [],
   "source": []
  }
 ],
 "metadata": {
  "kernelspec": {
   "display_name": "Python 3 (ipykernel)",
   "language": "python",
   "name": "python3"
  },
  "language_info": {
   "codemirror_mode": {
    "name": "ipython",
    "version": 3
   },
   "file_extension": ".py",
   "mimetype": "text/x-python",
   "name": "python",
   "nbconvert_exporter": "python",
   "pygments_lexer": "ipython3",
   "version": "3.10.9"
  },
  "toc-autonumbering": true,
  "toc-showcode": false,
  "toc-showmarkdowntxt": false
 },
 "nbformat": 4,
 "nbformat_minor": 5
}
