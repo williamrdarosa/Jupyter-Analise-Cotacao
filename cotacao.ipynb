{
 "cells": [
  {
   "cell_type": "markdown",
   "id": "c3fac3c1-5bd0-4d4b-b316-fd5c4783e8d5",
   "metadata": {
    "tags": []
   },
   "source": [
    "# Cotação de Moedas"
   ]
  },
  {
   "cell_type": "markdown",
   "id": "77fd83ee-50af-4471-8b55-2a3b4211a71a",
   "metadata": {
    "tags": []
   },
   "source": [
    "## Importando Funções"
   ]
  },
  {
   "cell_type": "code",
   "execution_count": 1,
   "id": "1aa83889-d984-4e5e-a39c-6e83e9082a38",
   "metadata": {},
   "outputs": [],
   "source": [
    "from funcoes import Tabela, Excel, dados, imprimir\n",
    "from bot import Programa, data_agora, codigos"
   ]
  },
  {
   "cell_type": "markdown",
   "id": "e62eeb67-33d9-4084-8ef7-1344859c92a8",
   "metadata": {
    "tags": []
   },
   "source": [
    "## Baixar dados da API"
   ]
  },
  {
   "cell_type": "markdown",
   "id": "ab9ca4ea-6da8-4874-8264-52328d1f7006",
   "metadata": {},
   "source": [
    "- Baixar dados em Json do resumo de cotação das moedas Dólar, Euro, Peso e Libra."
   ]
  },
  {
   "cell_type": "code",
   "execution_count": 2,
   "id": "7e3871e5-e5d1-4a6b-8820-9cffa2c1cf25",
   "metadata": {},
   "outputs": [],
   "source": [
    "r = dados('https://economia.awesomeapi.com.br/last/USD-BRL,EUR-BRL,ARS-BRL,GBP-BRL')"
   ]
  },
  {
   "cell_type": "code",
   "execution_count": 3,
   "id": "e6ae388b-c9c4-445f-8d7b-c3c64644be52",
   "metadata": {},
   "outputs": [
    {
     "data": {
      "text/plain": [
       "{'USDBRL': {'code': 'USD',\n",
       "  'codein': 'BRL',\n",
       "  'name': 'Dólar Americano/Real Brasileiro',\n",
       "  'high': '5.2559',\n",
       "  'low': '5.1868',\n",
       "  'varBid': '0.0227',\n",
       "  'pctChange': '0.44',\n",
       "  'bid': '5.208',\n",
       "  'ask': '5.21',\n",
       "  'timestamp': '1674134223',\n",
       "  'create_date': '2023-01-19 10:17:03'},\n",
       " 'EURBRL': {'code': 'EUR',\n",
       "  'codein': 'BRL',\n",
       "  'name': 'Euro/Real Brasileiro',\n",
       "  'high': '5.6856',\n",
       "  'low': '5.5924',\n",
       "  'varBid': '0.0338',\n",
       "  'pctChange': '0.6',\n",
       "  'bid': '5.6298',\n",
       "  'ask': '5.632',\n",
       "  'timestamp': '1674134188',\n",
       "  'create_date': '2023-01-19 10:16:28'},\n",
       " 'ARSBRL': {'code': 'ARS',\n",
       "  'codein': 'BRL',\n",
       "  'name': 'Peso Argentino/Real Brasileiro',\n",
       "  'high': '0.0287',\n",
       "  'low': '0.0284',\n",
       "  'varBid': '0',\n",
       "  'pctChange': '0',\n",
       "  'bid': '0.0284',\n",
       "  'ask': '0.0284',\n",
       "  'timestamp': '1674134190',\n",
       "  'create_date': '2023-01-19 10:16:30'},\n",
       " 'GBPBRL': {'code': 'GBP',\n",
       "  'codein': 'BRL',\n",
       "  'name': 'Libra Esterlina/Real Brasileiro',\n",
       "  'high': '6.4903',\n",
       "  'low': '6.3865',\n",
       "  'varBid': '0.0262',\n",
       "  'pctChange': '0.41',\n",
       "  'bid': '6.4274',\n",
       "  'ask': '6.431',\n",
       "  'timestamp': '1674134227',\n",
       "  'create_date': '2023-01-19 10:17:07'}}"
      ]
     },
     "execution_count": 3,
     "metadata": {},
     "output_type": "execute_result"
    }
   ],
   "source": [
    "r"
   ]
  },
  {
   "cell_type": "markdown",
   "id": "6eb1065c-c33e-4357-89a8-8678c8df0b4c",
   "metadata": {},
   "source": [
    "## Criando as Tabelas"
   ]
  },
  {
   "cell_type": "markdown",
   "id": "98fea241-b684-4935-9b86-233a66a9d141",
   "metadata": {
    "tags": []
   },
   "source": [
    "### Tabela Resumo Informações"
   ]
  },
  {
   "cell_type": "markdown",
   "id": "d9d19d94-9980-46ed-9820-b04afa0f6559",
   "metadata": {},
   "source": [
    "- Converter dados em Json para planilha.\n",
    "- Excluir coluna **timestamp**.\n",
    "- Traduzir cabeçalhos.\n",
    "- Converter números.\n",
    "- Converter data."
   ]
  },
  {
   "cell_type": "code",
   "execution_count": 4,
   "id": "0bb8b619-9d9f-45ce-8287-0c9dc56faac8",
   "metadata": {},
   "outputs": [
    {
     "data": {
      "text/html": [
       "<div>\n",
       "<style scoped>\n",
       "    .dataframe tbody tr th:only-of-type {\n",
       "        vertical-align: middle;\n",
       "    }\n",
       "\n",
       "    .dataframe tbody tr th {\n",
       "        vertical-align: top;\n",
       "    }\n",
       "\n",
       "    .dataframe thead th {\n",
       "        text-align: right;\n",
       "    }\n",
       "</style>\n",
       "<table border=\"1\" class=\"dataframe\">\n",
       "  <thead>\n",
       "    <tr style=\"text-align: right;\">\n",
       "      <th></th>\n",
       "      <th>Moeda Estrangeira</th>\n",
       "      <th>Moeda Local</th>\n",
       "      <th>Nome</th>\n",
       "      <th>Máximo</th>\n",
       "      <th>Mínimo</th>\n",
       "      <th>Variação</th>\n",
       "      <th>Porcentagem de Variação</th>\n",
       "      <th>Compra</th>\n",
       "      <th>Venda</th>\n",
       "      <th>Data</th>\n",
       "    </tr>\n",
       "  </thead>\n",
       "  <tbody>\n",
       "    <tr>\n",
       "      <th>0</th>\n",
       "      <td>USD</td>\n",
       "      <td>BRL</td>\n",
       "      <td>Dólar Americano/Real Brasileiro</td>\n",
       "      <td>5.2559</td>\n",
       "      <td>5.1868</td>\n",
       "      <td>0.0227</td>\n",
       "      <td>0.44</td>\n",
       "      <td>5.2080</td>\n",
       "      <td>5.2100</td>\n",
       "      <td>2023-01-19 10:17:03</td>\n",
       "    </tr>\n",
       "    <tr>\n",
       "      <th>1</th>\n",
       "      <td>EUR</td>\n",
       "      <td>BRL</td>\n",
       "      <td>Euro/Real Brasileiro</td>\n",
       "      <td>5.6856</td>\n",
       "      <td>5.5924</td>\n",
       "      <td>0.0338</td>\n",
       "      <td>0.60</td>\n",
       "      <td>5.6298</td>\n",
       "      <td>5.6320</td>\n",
       "      <td>2023-01-19 10:16:28</td>\n",
       "    </tr>\n",
       "    <tr>\n",
       "      <th>2</th>\n",
       "      <td>ARS</td>\n",
       "      <td>BRL</td>\n",
       "      <td>Peso Argentino/Real Brasileiro</td>\n",
       "      <td>0.0287</td>\n",
       "      <td>0.0284</td>\n",
       "      <td>0.0000</td>\n",
       "      <td>0.00</td>\n",
       "      <td>0.0284</td>\n",
       "      <td>0.0284</td>\n",
       "      <td>2023-01-19 10:16:30</td>\n",
       "    </tr>\n",
       "    <tr>\n",
       "      <th>3</th>\n",
       "      <td>GBP</td>\n",
       "      <td>BRL</td>\n",
       "      <td>Libra Esterlina/Real Brasileiro</td>\n",
       "      <td>6.4903</td>\n",
       "      <td>6.3865</td>\n",
       "      <td>0.0262</td>\n",
       "      <td>0.41</td>\n",
       "      <td>6.4274</td>\n",
       "      <td>6.4310</td>\n",
       "      <td>2023-01-19 10:17:07</td>\n",
       "    </tr>\n",
       "  </tbody>\n",
       "</table>\n",
       "</div>"
      ],
      "text/plain": [
       "  Moeda Estrangeira Moeda Local                             Nome  Máximo  \\\n",
       "0               USD         BRL  Dólar Americano/Real Brasileiro  5.2559   \n",
       "1               EUR         BRL             Euro/Real Brasileiro  5.6856   \n",
       "2               ARS         BRL   Peso Argentino/Real Brasileiro  0.0287   \n",
       "3               GBP         BRL  Libra Esterlina/Real Brasileiro  6.4903   \n",
       "\n",
       "   Mínimo  Variação  Porcentagem de Variação  Compra   Venda  \\\n",
       "0  5.1868    0.0227                     0.44  5.2080  5.2100   \n",
       "1  5.5924    0.0338                     0.60  5.6298  5.6320   \n",
       "2  0.0284    0.0000                     0.00  0.0284  0.0284   \n",
       "3  6.3865    0.0262                     0.41  6.4274  6.4310   \n",
       "\n",
       "                 Data  \n",
       "0 2023-01-19 10:17:03  \n",
       "1 2023-01-19 10:16:28  \n",
       "2 2023-01-19 10:16:30  \n",
       "3 2023-01-19 10:17:07  "
      ]
     },
     "execution_count": 4,
     "metadata": {},
     "output_type": "execute_result"
    }
   ],
   "source": [
    "tabelaG = Tabela()\n",
    "\n",
    "tabelaG.criar(r, ['USDBRL','EURBRL','ARSBRL','GBPBRL'])\n",
    "\n",
    "tabelaG.excluir_coluna(['timestamp'])\n",
    "\n",
    "dicionario = {'code':'Moeda Estrangeira','codein':'Moeda Local','name':'Nome','high':'Máximo','low':'Mínimo','varBid':'Variação','pctChange':'Porcentagem de Variação','bid':'Compra','ask':'Venda','timestamp':'Data','create_date':'Data'}\n",
    "\n",
    "tabelaG.renomear_coluna(dicionario)\n",
    "\n",
    "tabelaG.coluna_num(['Máximo', 'Mínimo', 'Variação', 'Porcentagem de Variação', 'Compra', 'Venda'])\n",
    "\n",
    "tabelaG.coluna_data(['Data'])\n",
    "\n",
    "tabelaG.df"
   ]
  },
  {
   "cell_type": "markdown",
   "id": "f118a698-cb14-40f3-a136-de0c4ed2d264",
   "metadata": {
    "tags": []
   },
   "source": [
    "### Função Tabela Série Cotação de Moedas"
   ]
  },
  {
   "cell_type": "markdown",
   "id": "12e4a44a-98a6-467b-b5dd-3085257359c2",
   "metadata": {},
   "source": [
    "- Criar função.\n",
    "- Excluir tabela **create_date**.\n",
    "- Traduzir cabeçalhos.\n",
    "- Preencher linhas vazias.\n",
    "- Formatar data.\n",
    "- Converter números.\n",
    "- Converter data."
   ]
  },
  {
   "cell_type": "code",
   "execution_count": 5,
   "id": "f36c22de-81f1-47e8-b702-46c1c9103ce2",
   "metadata": {},
   "outputs": [],
   "source": [
    "def tabela(r):\n",
    "    r = dados(r)\n",
    "    tabela = Tabela()\n",
    "\n",
    "    tabela.criar(r)\n",
    "\n",
    "    tabela.excluir_coluna(['create_date'])\n",
    "\n",
    "    dicionario = {'code':'Moeda Estrangeira','codein':'Moeda Local','name':'Nome','high':'Máximo','low':'Mínimo','varBid':'Variação','pctChange':'Porcentagem de Variação','bid':'Compra','ask':'Venda','timestamp':'Data','create_date':'Data'}\n",
    "\n",
    "    tabela.renomear_coluna(dicionario)\n",
    "\n",
    "    tabela.duplicar_info(['Moeda Estrangeira', 'Moeda Local', 'Nome'])\n",
    "\n",
    "    tabela.converter_data(['Data'])\n",
    "\n",
    "    tabela.coluna_num(['Máximo', 'Mínimo', 'Variação', 'Porcentagem de Variação', 'Compra', 'Venda'])\n",
    "\n",
    "    tabela.coluna_data(['Data'])\n",
    "\n",
    "    return tabela.df"
   ]
  },
  {
   "cell_type": "markdown",
   "id": "2c30c736-9a79-4973-9539-51002c02afa2",
   "metadata": {
    "tags": []
   },
   "source": [
    "### Tabelas com Séries de Cotações das Moedas Dólar, Euro, Peso e Libra"
   ]
  },
  {
   "cell_type": "code",
   "execution_count": 6,
   "id": "4bbd2fa7-5b55-46af-8de6-c6d057cff248",
   "metadata": {},
   "outputs": [
    {
     "data": {
      "text/html": [
       "<div>\n",
       "<style scoped>\n",
       "    .dataframe tbody tr th:only-of-type {\n",
       "        vertical-align: middle;\n",
       "    }\n",
       "\n",
       "    .dataframe tbody tr th {\n",
       "        vertical-align: top;\n",
       "    }\n",
       "\n",
       "    .dataframe thead th {\n",
       "        text-align: right;\n",
       "    }\n",
       "</style>\n",
       "<table border=\"1\" class=\"dataframe\">\n",
       "  <thead>\n",
       "    <tr style=\"text-align: right;\">\n",
       "      <th></th>\n",
       "      <th>Moeda Estrangeira</th>\n",
       "      <th>Moeda Local</th>\n",
       "      <th>Nome</th>\n",
       "      <th>Máximo</th>\n",
       "      <th>Mínimo</th>\n",
       "      <th>Variação</th>\n",
       "      <th>Porcentagem de Variação</th>\n",
       "      <th>Compra</th>\n",
       "      <th>Venda</th>\n",
       "      <th>Data</th>\n",
       "    </tr>\n",
       "  </thead>\n",
       "  <tbody>\n",
       "    <tr>\n",
       "      <th>0</th>\n",
       "      <td>USD</td>\n",
       "      <td>BRL</td>\n",
       "      <td>Dólar Americano/Real Brasileiro</td>\n",
       "      <td>5.2559</td>\n",
       "      <td>5.1868</td>\n",
       "      <td>0.0191</td>\n",
       "      <td>0.37</td>\n",
       "      <td>5.2046</td>\n",
       "      <td>5.2061</td>\n",
       "      <td>2023-01-19 10:14:10</td>\n",
       "    </tr>\n",
       "    <tr>\n",
       "      <th>1</th>\n",
       "      <td>USD</td>\n",
       "      <td>BRL</td>\n",
       "      <td>Dólar Americano/Real Brasileiro</td>\n",
       "      <td>5.1868</td>\n",
       "      <td>5.1868</td>\n",
       "      <td>0.0005</td>\n",
       "      <td>0.01</td>\n",
       "      <td>5.1863</td>\n",
       "      <td>5.1873</td>\n",
       "      <td>2023-01-18 20:59:42</td>\n",
       "    </tr>\n",
       "    <tr>\n",
       "      <th>2</th>\n",
       "      <td>USD</td>\n",
       "      <td>BRL</td>\n",
       "      <td>Dólar Americano/Real Brasileiro</td>\n",
       "      <td>5.1007</td>\n",
       "      <td>5.1007</td>\n",
       "      <td>0.0004</td>\n",
       "      <td>0.01</td>\n",
       "      <td>5.1003</td>\n",
       "      <td>5.1012</td>\n",
       "      <td>2023-01-17 20:59:41</td>\n",
       "    </tr>\n",
       "    <tr>\n",
       "      <th>3</th>\n",
       "      <td>USD</td>\n",
       "      <td>BRL</td>\n",
       "      <td>Dólar Americano/Real Brasileiro</td>\n",
       "      <td>5.1617</td>\n",
       "      <td>5.0933</td>\n",
       "      <td>0.0005</td>\n",
       "      <td>0.01</td>\n",
       "      <td>5.1474</td>\n",
       "      <td>5.1484</td>\n",
       "      <td>2023-01-16 18:25:52</td>\n",
       "    </tr>\n",
       "    <tr>\n",
       "      <th>4</th>\n",
       "      <td>USD</td>\n",
       "      <td>BRL</td>\n",
       "      <td>Dólar Americano/Real Brasileiro</td>\n",
       "      <td>5.1544</td>\n",
       "      <td>5.0786</td>\n",
       "      <td>-0.0121</td>\n",
       "      <td>-0.24</td>\n",
       "      <td>5.0956</td>\n",
       "      <td>5.0966</td>\n",
       "      <td>2023-01-13 18:30:00</td>\n",
       "    </tr>\n",
       "  </tbody>\n",
       "</table>\n",
       "</div>"
      ],
      "text/plain": [
       "  Moeda Estrangeira Moeda Local                             Nome  Máximo  \\\n",
       "0               USD         BRL  Dólar Americano/Real Brasileiro  5.2559   \n",
       "1               USD         BRL  Dólar Americano/Real Brasileiro  5.1868   \n",
       "2               USD         BRL  Dólar Americano/Real Brasileiro  5.1007   \n",
       "3               USD         BRL  Dólar Americano/Real Brasileiro  5.1617   \n",
       "4               USD         BRL  Dólar Americano/Real Brasileiro  5.1544   \n",
       "\n",
       "   Mínimo  Variação  Porcentagem de Variação  Compra   Venda  \\\n",
       "0  5.1868    0.0191                     0.37  5.2046  5.2061   \n",
       "1  5.1868    0.0005                     0.01  5.1863  5.1873   \n",
       "2  5.1007    0.0004                     0.01  5.1003  5.1012   \n",
       "3  5.0933    0.0005                     0.01  5.1474  5.1484   \n",
       "4  5.0786   -0.0121                    -0.24  5.0956  5.0966   \n",
       "\n",
       "                 Data  \n",
       "0 2023-01-19 10:14:10  \n",
       "1 2023-01-18 20:59:42  \n",
       "2 2023-01-17 20:59:41  \n",
       "3 2023-01-16 18:25:52  \n",
       "4 2023-01-13 18:30:00  "
      ]
     },
     "execution_count": 6,
     "metadata": {},
     "output_type": "execute_result"
    }
   ],
   "source": [
    "tabelaDolar = tabela('https://economia.awesomeapi.com.br/json/daily/USD-BRL/15')\n",
    "tabelaDolar.head()"
   ]
  },
  {
   "cell_type": "code",
   "execution_count": 7,
   "id": "97ef75bc-5d90-4547-aa56-a9c5b8fac77e",
   "metadata": {},
   "outputs": [],
   "source": [
    "tabelaEuro = tabela('https://economia.awesomeapi.com.br/json/daily/EUR-BRL/15')"
   ]
  },
  {
   "cell_type": "code",
   "execution_count": 8,
   "id": "918ffb43-4ea3-427c-aa86-8a65a30a1e44",
   "metadata": {},
   "outputs": [],
   "source": [
    "tabelaPeso = tabela('https://economia.awesomeapi.com.br/json/daily/ARS-BRL/15')"
   ]
  },
  {
   "cell_type": "code",
   "execution_count": 9,
   "id": "46aa07b6-5bd5-46e7-a580-6e287da0a4f9",
   "metadata": {},
   "outputs": [],
   "source": [
    "tabelaLibra = tabela('https://economia.awesomeapi.com.br/json/daily/GBP-BRL/15')"
   ]
  },
  {
   "cell_type": "markdown",
   "id": "55e99a21-3718-47c2-a3c7-06fe4010b633",
   "metadata": {},
   "source": [
    "## Gerar o Arquivo de Excel e PDF"
   ]
  },
  {
   "cell_type": "markdown",
   "id": "edfc4f7d-bddc-4dc8-88f2-9069bbb06d0c",
   "metadata": {},
   "source": [
    "### Criar o Arquivo Excel, a Planilha do Resumo das Cotações"
   ]
  },
  {
   "cell_type": "markdown",
   "id": "a6540472-ea9a-4c18-94e7-8f99e6391433",
   "metadata": {},
   "source": [
    "- Criar o arquivo.\n",
    "- Criar a planilha com a tabela do resumo das cotações.\n",
    "- Excluir planilha **Sheet** criada automaticamente.\n",
    "- Inserir dados da planilha.\n",
    "- Formatar Data.\n",
    "- Formatar a porcentagem.\n",
    "- Centralizar dados.\n",
    "- Alinhar colunas."
   ]
  },
  {
   "cell_type": "code",
   "execution_count": 10,
   "id": "ebaea744-07a0-4f40-9df5-7617af990351",
   "metadata": {},
   "outputs": [],
   "source": [
    "Arquivo = Excel('Cotação')\n",
    "\n",
    "pasta = Arquivo.pasta()\n",
    "\n",
    "# Planilha Tabela Geral\n",
    "\n",
    "planilhaTabelaG = Arquivo.planilha(pasta, 'Cotação')\n",
    "\n",
    "Arquivo.excluir_planilha(pasta, 'Sheet')\n",
    "\n",
    "Arquivo.tabela(tabelaG.df, planilhaTabelaG)\n",
    "\n",
    "Arquivo.form_data(planilhaTabelaG, [\"J\"])\n",
    "\n",
    "Arquivo.form_porcentagem(planilhaTabelaG, [\"G\"])\n",
    "\n",
    "Arquivo.form_centralizar(planilhaTabelaG, [\"A\", \"B\", \"D\", \"E\", \"F\", \"G\", \"H\", \"I\", \"J\"])\n",
    "\n",
    "Arquivo.alinhar(planilhaTabelaG)"
   ]
  },
  {
   "cell_type": "markdown",
   "id": "45c8dd3a-b237-497c-bccc-7e07167c935b",
   "metadata": {},
   "source": [
    "### Criar Planilha de Gráficos"
   ]
  },
  {
   "cell_type": "code",
   "execution_count": 11,
   "id": "442ef3b5-9be7-4df9-b524-48625096f04f",
   "metadata": {},
   "outputs": [],
   "source": [
    "# Planilha Gráficos\n",
    "\n",
    "planilhaGraficos = Arquivo.planilha(pasta, 'Gráficos')"
   ]
  },
  {
   "cell_type": "markdown",
   "id": "107b09ab-fb4c-4899-a9f0-c234f55c6d42",
   "metadata": {},
   "source": [
    "### Função para Criar Planilha de Séries, Planilha de Dados e Inserir Dados na Planilha Gráficos"
   ]
  },
  {
   "cell_type": "markdown",
   "id": "81c68929-77c2-4f2b-937f-2e791cbe1f75",
   "metadata": {},
   "source": [
    "- Criar planilha com a série de dados.\n",
    "- Inserir dados da série das cotações na planilha séries.\n",
    "- Formatar data, porcentagem, centralizar dados e alinhar colunas na planilha séries.\n",
    "- Criar planilha de dados.\n",
    "- Inserir dados do gráfico na planilha dados, criar o gráfico na planilha gráficos.\n",
    "- Ocultar a planilha de dados."
   ]
  },
  {
   "cell_type": "code",
   "execution_count": 12,
   "id": "3f8b2efe-55e9-4e45-88bb-11e3364cf02b",
   "metadata": {},
   "outputs": [],
   "source": [
    "def planilha(pasta, nome, df, c):\n",
    "\n",
    "    planilhaSerie = Arquivo.planilha(pasta, f'Série {nome}')\n",
    "\n",
    "    Arquivo.tabela(df, planilhaSerie)\n",
    "\n",
    "    Arquivo.form_data(planilhaSerie, [\"J\"])\n",
    "\n",
    "    Arquivo.form_porcentagem(planilhaSerie, [\"G\"])\n",
    "\n",
    "    Arquivo.form_centralizar(planilhaSerie, [\"A\", \"B\", \"D\", \"E\", \"F\", \"G\", \"H\", \"I\", \"J\"])\n",
    "\n",
    "    Arquivo.alinhar(planilhaSerie)\n",
    "\n",
    "    # Planilha Gráfico\n",
    "\n",
    "    planilhaDados = Arquivo.planilha(pasta, f'Dados {nome}')\n",
    "\n",
    "    Arquivo.grafico_linha(planilhaGraficos, planilhaDados, df, f\"Gráfico {nome}\", \"Data\",  \"Venda\", c)\n",
    "\n",
    "    Arquivo.ocultar_planilha(planilhaDados)"
   ]
  },
  {
   "cell_type": "markdown",
   "id": "eb81acbc-f782-42cd-80c6-d63cd1b654e8",
   "metadata": {},
   "source": [
    "### Utilizar a Função Planilha para Criar as Planilhas de Dólar, Euro, Peso e Libra"
   ]
  },
  {
   "cell_type": "code",
   "execution_count": 13,
   "id": "4722c56e-b6c5-458e-902d-5507bf3a7dad",
   "metadata": {},
   "outputs": [],
   "source": [
    "planilha(pasta, 'Dolar', tabelaDolar, \"A3\")\n",
    "\n",
    "planilha(pasta, 'Euro', tabelaEuro, \"A18\")\n",
    "\n",
    "planilha(pasta, 'Peso', tabelaPeso, \"K3\")\n",
    "\n",
    "planilha(pasta, 'Libra', tabelaLibra, \"K18\")"
   ]
  },
  {
   "cell_type": "markdown",
   "id": "c3627966-738a-4237-b8eb-6e69564a8039",
   "metadata": {},
   "source": [
    "### Formatar a Planilha de Gráficos, Configurar a Impressão, Salvar o Excel e Salvar PDF"
   ]
  },
  {
   "cell_type": "markdown",
   "id": "44e514e4-4643-4eda-954f-044b54f45ddb",
   "metadata": {},
   "source": [
    "- Escrever o título na célula A1, na planilha de gráfico.\n",
    "- Formatar célula A1 com o tamanho de fonte 18, cor RGB 00FFFFFF e ativar negrito e centralizar.\n",
    "- Mesclar células A1:S1.\n",
    "- Formatar célula A2 com o tamanho de fonte 11, cor RGB 00CCCCFF.\n",
    "- Mesclar células A2:S32.\n",
    "- Alterar configurações de impressão planilha de gráficos, para imprimir em uma folha na horizontal.\n",
    "- Salvar a planilha.\n",
    "- Imprimir planilha Gráficos em PDF."
   ]
  },
  {
   "cell_type": "code",
   "execution_count": 14,
   "id": "af69bb36-8848-4490-aa2a-d7e61ec7aa60",
   "metadata": {},
   "outputs": [],
   "source": [
    "Arquivo.escrever(planilhaGraficos, 'A1', 'Gráficos Temporais')\n",
    "\n",
    "Arquivo.estilo(planilhaGraficos, 'A1', 18, '00FFFFFF', True, True)\n",
    "\n",
    "Arquivo.mesclar(planilhaGraficos, \"A1:S1\")\n",
    "\n",
    "Arquivo.estilo(planilhaGraficos, 'A2', 11, '00CCCCFF', False, False)\n",
    "\n",
    "Arquivo.mesclar(planilhaGraficos, \"A2:S32\")\n",
    "\n",
    "Arquivo.impressora(planilhaGraficos)\n",
    "\n",
    "Arquivo.salvar(pasta)\n",
    "\n",
    "imprimir(1, 'Cotação')"
   ]
  },
  {
   "cell_type": "markdown",
   "id": "86c51b3e-42d5-4b1a-93a8-9418a3996b50",
   "metadata": {},
   "source": [
    "## Enviar Arquivos pelo Telegram"
   ]
  },
  {
   "cell_type": "markdown",
   "id": "2c2cfd68-92f7-4dac-a65b-7c42decaca27",
   "metadata": {},
   "source": [
    "- Inicializar o bot.\n",
    "- enviar a mensagem \"⚠️ **Atualização de Cotações** ⚠️\"\n",
    "- Enviar o arquivo excel.\n",
    "- Enviar o arquivo pdf.\n",
    "- Enviar a mensagem com a hora da atualização.\n",
    "- enviar a mensagem \"⚠️ **Atualização de Cotações** ⚠️\""
   ]
  },
  {
   "cell_type": "code",
   "execution_count": 15,
   "id": "9f397b1e-4e19-4e44-b290-9fd3a5d8e876",
   "metadata": {},
   "outputs": [],
   "source": [
    "BOT = codigos(\"BOT\")\n",
    "USER = codigos(\"USER\")\n",
    "\n",
    "bot = Programa(BOT)\n",
    "\n",
    "bot.falar(USER, \"⚠️ **Atualização de Cotações** ⚠️\")\n",
    "\n",
    "bot.enviar_arquivo(USER, \"./Cotação.xlsx\")\n",
    "\n",
    "bot.enviar_arquivo(USER, \"./Cotação.pdf\")\n",
    "\n",
    "bot.falar(USER, f\"🕗 Atualização da Base: **{data_agora()}**\")\n",
    "\n",
    "bot.falar(USER, \"⚠️ **Atualização de Cotações** ⚠️\")"
   ]
  }
 ],
 "metadata": {
  "kernelspec": {
   "display_name": "Python 3 (ipykernel)",
   "language": "python",
   "name": "python3"
  },
  "language_info": {
   "codemirror_mode": {
    "name": "ipython",
    "version": 3
   },
   "file_extension": ".py",
   "mimetype": "text/x-python",
   "name": "python",
   "nbconvert_exporter": "python",
   "pygments_lexer": "ipython3",
   "version": "3.10.9"
  },
  "toc-autonumbering": true,
  "toc-showcode": false,
  "toc-showmarkdowntxt": false
 },
 "nbformat": 4,
 "nbformat_minor": 5
}
