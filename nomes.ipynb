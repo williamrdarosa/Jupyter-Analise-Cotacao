{
 "cells": [
  {
   "cell_type": "markdown",
   "id": "fe34cbb7-d170-4cb8-af74-098826c9c5f8",
   "metadata": {},
   "source": [
    "# Frequência de Nomes"
   ]
  },
  {
   "cell_type": "markdown",
   "id": "c7c03bc1-735e-41ae-b520-28c00cceccad",
   "metadata": {},
   "source": [
    "## Importando Funções"
   ]
  },
  {
   "cell_type": "code",
   "execution_count": 1,
   "id": "673695fc-222d-42a1-9b4a-16c26764109b",
   "metadata": {},
   "outputs": [],
   "source": [
    "from funcoes import Tabela, Excel, dados, imprimir\n",
    "from bot import Programa, data_agora, codigos"
   ]
  },
  {
   "cell_type": "markdown",
   "id": "d16f747f-33dc-4353-9ba6-42efab184e28",
   "metadata": {},
   "source": [
    "## Pesquisar Nome"
   ]
  },
  {
   "cell_type": "markdown",
   "id": "a04aebf7-9ed1-49f8-971c-4be5a38a2073",
   "metadata": {},
   "source": [
    "Insira o nome a ser pesquisado:"
   ]
  },
  {
   "cell_type": "code",
   "execution_count": 2,
   "id": "cdccea80-744b-479e-9e16-ec9b9201893d",
   "metadata": {},
   "outputs": [
    {
     "name": "stdin",
     "output_type": "stream",
     "text": [
      "Digite um nome:  Sergio\n"
     ]
    }
   ],
   "source": [
    "nome = input(\"Digite um nome: \")"
   ]
  },
  {
   "cell_type": "markdown",
   "id": "b040111a-94f1-4a4b-9bc3-943908ba1612",
   "metadata": {},
   "source": [
    "## Baixar dados da API"
   ]
  },
  {
   "cell_type": "code",
   "execution_count": 3,
   "id": "2bde51ea-cc82-458e-a9fd-a2aff691a79e",
   "metadata": {},
   "outputs": [],
   "source": [
    "r = dados(f'https://servicodados.ibge.gov.br/api/v2/censos/nomes/{nome}')"
   ]
  },
  {
   "cell_type": "code",
   "execution_count": 4,
   "id": "81752f53-06c2-472b-bc03-3894c23b3384",
   "metadata": {},
   "outputs": [
    {
     "data": {
      "text/plain": [
       "[{'nome': 'SERGIO',\n",
       "  'sexo': None,\n",
       "  'localidade': 'BR',\n",
       "  'res': [{'periodo': '1930[', 'frequencia': 947},\n",
       "   {'periodo': '[1930,1940[', 'frequencia': 4647},\n",
       "   {'periodo': '[1940,1950[', 'frequencia': 17116},\n",
       "   {'periodo': '[1950,1960[', 'frequencia': 53210},\n",
       "   {'periodo': '[1960,1970[', 'frequencia': 106819},\n",
       "   {'periodo': '[1970,1980[', 'frequencia': 107584},\n",
       "   {'periodo': '[1980,1990[', 'frequencia': 65055},\n",
       "   {'periodo': '[1990,2000[', 'frequencia': 32069},\n",
       "   {'periodo': '[2000,2010[', 'frequencia': 17544}]}]"
      ]
     },
     "execution_count": 4,
     "metadata": {},
     "output_type": "execute_result"
    }
   ],
   "source": [
    "r"
   ]
  },
  {
   "cell_type": "markdown",
   "id": "f7a6e528-21b0-4e14-b312-761f4471f597",
   "metadata": {},
   "source": [
    "## Criando a Tabela"
   ]
  },
  {
   "cell_type": "markdown",
   "id": "68c4635a-9411-4519-8e3f-9b61412da7be",
   "metadata": {},
   "source": [
    "### Tabela Frequência do Nome"
   ]
  },
  {
   "cell_type": "markdown",
   "id": "7ff7514d-6cbf-4284-8fb9-4c2eff9dde6a",
   "metadata": {},
   "source": [
    "- Criar tabela.\n",
    "- Importar dados do Json.\n",
    "- Renomerar colunas.\n",
    "- Formatar números.\n",
    "- Formatar data."
   ]
  },
  {
   "cell_type": "code",
   "execution_count": 5,
   "id": "6846b383-e4b9-4a6f-917d-fe81209798a0",
   "metadata": {},
   "outputs": [
    {
     "data": {
      "text/html": [
       "<div>\n",
       "<style scoped>\n",
       "    .dataframe tbody tr th:only-of-type {\n",
       "        vertical-align: middle;\n",
       "    }\n",
       "\n",
       "    .dataframe tbody tr th {\n",
       "        vertical-align: top;\n",
       "    }\n",
       "\n",
       "    .dataframe thead th {\n",
       "        text-align: right;\n",
       "    }\n",
       "</style>\n",
       "<table border=\"1\" class=\"dataframe\">\n",
       "  <thead>\n",
       "    <tr style=\"text-align: right;\">\n",
       "      <th></th>\n",
       "      <th>Período</th>\n",
       "      <th>Frequência</th>\n",
       "    </tr>\n",
       "  </thead>\n",
       "  <tbody>\n",
       "    <tr>\n",
       "      <th>0</th>\n",
       "      <td>1930</td>\n",
       "      <td>947</td>\n",
       "    </tr>\n",
       "    <tr>\n",
       "      <th>1</th>\n",
       "      <td>1930 - 1940</td>\n",
       "      <td>4647</td>\n",
       "    </tr>\n",
       "    <tr>\n",
       "      <th>2</th>\n",
       "      <td>1940 - 1950</td>\n",
       "      <td>17116</td>\n",
       "    </tr>\n",
       "    <tr>\n",
       "      <th>3</th>\n",
       "      <td>1950 - 1960</td>\n",
       "      <td>53210</td>\n",
       "    </tr>\n",
       "    <tr>\n",
       "      <th>4</th>\n",
       "      <td>1960 - 1970</td>\n",
       "      <td>106819</td>\n",
       "    </tr>\n",
       "    <tr>\n",
       "      <th>5</th>\n",
       "      <td>1970 - 1980</td>\n",
       "      <td>107584</td>\n",
       "    </tr>\n",
       "    <tr>\n",
       "      <th>6</th>\n",
       "      <td>1980 - 1990</td>\n",
       "      <td>65055</td>\n",
       "    </tr>\n",
       "    <tr>\n",
       "      <th>7</th>\n",
       "      <td>1990 - 2000</td>\n",
       "      <td>32069</td>\n",
       "    </tr>\n",
       "    <tr>\n",
       "      <th>8</th>\n",
       "      <td>2000 - 2010</td>\n",
       "      <td>17544</td>\n",
       "    </tr>\n",
       "  </tbody>\n",
       "</table>\n",
       "</div>"
      ],
      "text/plain": [
       "       Período  Frequência\n",
       "0         1930         947\n",
       "1  1930 - 1940        4647\n",
       "2  1940 - 1950       17116\n",
       "3  1950 - 1960       53210\n",
       "4  1960 - 1970      106819\n",
       "5  1970 - 1980      107584\n",
       "6  1980 - 1990       65055\n",
       "7  1990 - 2000       32069\n",
       "8  2000 - 2010       17544"
      ]
     },
     "execution_count": 5,
     "metadata": {},
     "output_type": "execute_result"
    }
   ],
   "source": [
    "tabelan = Tabela()\n",
    "tabelan.criar(r[0]['res'])\n",
    "dicionario = {\"periodo\":\"Período\",\"frequencia\":\"Frequência\"}\n",
    "tabelan.renomear_coluna(dicionario)\n",
    "tabelan.coluna_num(['Frequência'])\n",
    "tabelan.df['Período'] = tabelan.df['Período'].apply(lambda x: x.replace(\"[\", \"\").replace(\",\", \" - \"))\n",
    "tabelan.df"
   ]
  },
  {
   "cell_type": "markdown",
   "id": "d98cdba0-8ae1-4fd5-b470-4129f3f62901",
   "metadata": {},
   "source": [
    "## Gerar o Arquivo de Excel e PDF"
   ]
  },
  {
   "cell_type": "markdown",
   "id": "19fba32a-35d9-4954-ab4b-ad0df9003448",
   "metadata": {},
   "source": [
    "- Criar arquivo Excel.\n",
    "- Criar planilha **Nome**.\n",
    "- Excluir planilha **Sheet**.\n",
    "- Importar dados da tabela.\n",
    "- Centralizar colunas.\n",
    "- Alinhar colunas.\n",
    "- Criar tabela de **Dados**.\n",
    "- Criar o gráfico.\n",
    "- Ocultar planilha de **Dados**.\n",
    "- Inserir duas linhas na planilha **Nome**.\n",
    "- Na célula **A1** inserir o texto **Gráfico Temporal**.\n",
    "- Formatar célula **A1** com tamanho de fonte 18, texto em negrito e com bordas.\n",
    "- Mesclar linhas **A1:L1**.\n",
    "- Formatar célula **A2** com a cor RGB **00CCCCFF**.\n",
    "- Mesclr linhas **A2:L2**.\n",
    "- Formatar célula **C3** com a cor RGB **00CCCCFF**.\n",
    "- Mesclr linhas **C3:L17**.\n",
    "- Formatar célula **A13** com a cor RGB **00CCCCFF**.\n",
    "- Mesclr linhas **A13:B17**.\n",
    "- Configurar impressão da planilha **Nome**.\n",
    "- Salvar arquivo **Excel**.\n",
    "- Imprimir planilha **Nome** em **PDF**."
   ]
  },
  {
   "cell_type": "code",
   "execution_count": 6,
   "id": "85630c83-0af2-4327-8dd7-c393f30bf106",
   "metadata": {},
   "outputs": [],
   "source": [
    "Arquivo = Excel('Nome')\n",
    "\n",
    "pasta = Arquivo.pasta()\n",
    "\n",
    "planilha = Arquivo.planilha(pasta, 'Nome')\n",
    "\n",
    "Arquivo.excluir_planilha(pasta, 'Sheet')\n",
    "\n",
    "Arquivo.tabela(tabelan.df, planilha)\n",
    "\n",
    "Arquivo.form_centralizar(planilha, [\"A\", \"B\"])\n",
    "\n",
    "Arquivo.alinhar(planilha)\n",
    "\n",
    "planilhaDados = Arquivo.planilha(pasta, f'Dados {nome}')\n",
    "\n",
    "Arquivo.grafico_linha(planilha, planilhaDados, tabelan.df, f\"Gráfico Nome: {nome}\", \"Período\",  \"Frequência\", \"D3\", \"#,##0\")\n",
    "\n",
    "Arquivo.ocultar_planilha(planilhaDados)\n",
    "\n",
    "Arquivo.inserir_linha(planilha, 1, 2)\n",
    "\n",
    "Arquivo.escrever(planilha, 'A1', 'Gráfico Temporal')\n",
    "\n",
    "Arquivo.estilo(planilha, 'A1', 18, '00FFFFFF', True, True)\n",
    "\n",
    "Arquivo.mesclar(planilha, \"A1:L1\")\n",
    "\n",
    "Arquivo.estilo(planilha, 'A2', 11, '00CCCCFF', False, False, False)\n",
    "\n",
    "Arquivo.mesclar(planilha, \"A2:L2\")\n",
    "\n",
    "Arquivo.estilo(planilha, 'C3', 11, '00CCCCFF', False, False, False)\n",
    "\n",
    "Arquivo.mesclar(planilha, \"C3:L17\")\n",
    "\n",
    "Arquivo.estilo(planilha, 'A13', 11, '00CCCCFF', False, False, False)\n",
    "\n",
    "Arquivo.mesclar(planilha, \"A13:B17\")\n",
    "\n",
    "Arquivo.impressora(planilha)\n",
    "\n",
    "Arquivo.salvar(pasta)\n",
    "\n",
    "imprimir(0, 'Nome')"
   ]
  },
  {
   "cell_type": "markdown",
   "id": "40cedc82-4411-4fc5-9922-a97bb9336a5a",
   "metadata": {},
   "source": [
    "## Enviar Arquivos pelo Telegram"
   ]
  },
  {
   "cell_type": "markdown",
   "id": "c6a6c74c-3da5-435a-a7d7-c5177cbc7096",
   "metadata": {},
   "source": [
    "- Inicializar o bot.\n",
    "- enviar a mensagem \"💬 **Frequência Nome: {nome}** 💬\"\n",
    "- Enviar o arquivo **Excel**.\n",
    "- Enviar o arquivo **PDF**.\n",
    "- enviar a mensagem \"💬 **Frequência Nome: {nome}** 💬\""
   ]
  },
  {
   "cell_type": "code",
   "execution_count": 7,
   "id": "dc0cc741-3ed2-421d-8eab-7b4e53a5ce54",
   "metadata": {},
   "outputs": [],
   "source": [
    "BOT = codigos(\"BOT\")\n",
    "USER = codigos(\"USER\")\n",
    "\n",
    "bot = Programa(BOT)\n",
    "\n",
    "bot.falar(USER, f\"💬 **Frequência Nome: {nome}** 💬\")\n",
    "\n",
    "bot.enviar_arquivo(USER, \"./Nome.xlsx\")\n",
    "\n",
    "bot.enviar_arquivo(USER, \"./Nome.pdf\")\n",
    "\n",
    "bot.falar(USER, f\"💬 **Frequência Nome: {nome}** 💬\")"
   ]
  }
 ],
 "metadata": {
  "kernelspec": {
   "display_name": "Python 3 (ipykernel)",
   "language": "python",
   "name": "python3"
  },
  "language_info": {
   "codemirror_mode": {
    "name": "ipython",
    "version": 3
   },
   "file_extension": ".py",
   "mimetype": "text/x-python",
   "name": "python",
   "nbconvert_exporter": "python",
   "pygments_lexer": "ipython3",
   "version": "3.10.9"
  }
 },
 "nbformat": 4,
 "nbformat_minor": 5
}
