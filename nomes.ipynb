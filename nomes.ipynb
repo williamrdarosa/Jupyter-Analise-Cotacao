{
 "cells": [
  {
   "cell_type": "markdown",
   "id": "fe34cbb7-d170-4cb8-af74-098826c9c5f8",
   "metadata": {},
   "source": [
    "# Frequência de Nomes"
   ]
  },
  {
   "cell_type": "markdown",
   "id": "c7c03bc1-735e-41ae-b520-28c00cceccad",
   "metadata": {},
   "source": [
    "## Importando Funções"
   ]
  },
  {
   "cell_type": "code",
   "execution_count": null,
   "id": "673695fc-222d-42a1-9b4a-16c26764109b",
   "metadata": {},
   "outputs": [],
   "source": [
    "from funcoes.funcoes import Tabela, Excel, dados, imprimir\n",
    "from funcoes.bot import Programa, data_agora, codigos"
   ]
  },
  {
   "cell_type": "markdown",
   "id": "d16f747f-33dc-4353-9ba6-42efab184e28",
   "metadata": {},
   "source": [
    "## Pesquisar Nome"
   ]
  },
  {
   "cell_type": "markdown",
   "id": "a04aebf7-9ed1-49f8-971c-4be5a38a2073",
   "metadata": {},
   "source": [
    "Insira o nome a ser pesquisado:"
   ]
  },
  {
   "cell_type": "code",
   "execution_count": null,
   "id": "cdccea80-744b-479e-9e16-ec9b9201893d",
   "metadata": {},
   "outputs": [],
   "source": [
    "nome = input(\"Digite um nome: \")"
   ]
  },
  {
   "cell_type": "markdown",
   "id": "b040111a-94f1-4a4b-9bc3-943908ba1612",
   "metadata": {},
   "source": [
    "## Baixar dados da API"
   ]
  },
  {
   "cell_type": "code",
   "execution_count": null,
   "id": "2bde51ea-cc82-458e-a9fd-a2aff691a79e",
   "metadata": {},
   "outputs": [],
   "source": [
    "r = dados(f'https://servicodados.ibge.gov.br/api/v2/censos/nomes/{nome}')"
   ]
  },
  {
   "cell_type": "code",
   "execution_count": null,
   "id": "81752f53-06c2-472b-bc03-3894c23b3384",
   "metadata": {},
   "outputs": [],
   "source": [
    "r"
   ]
  },
  {
   "cell_type": "markdown",
   "id": "f7a6e528-21b0-4e14-b312-761f4471f597",
   "metadata": {},
   "source": [
    "## Criando a Tabela"
   ]
  },
  {
   "cell_type": "markdown",
   "id": "68c4635a-9411-4519-8e3f-9b61412da7be",
   "metadata": {},
   "source": [
    "### Tabela Frequência do Nome"
   ]
  },
  {
   "cell_type": "markdown",
   "id": "7ff7514d-6cbf-4284-8fb9-4c2eff9dde6a",
   "metadata": {},
   "source": [
    "- Criar tabela.\n",
    "- Importar dados do Json.\n",
    "- Renomerar colunas.\n",
    "- Formatar números.\n",
    "- Formatar data."
   ]
  },
  {
   "cell_type": "code",
   "execution_count": null,
   "id": "6846b383-e4b9-4a6f-917d-fe81209798a0",
   "metadata": {},
   "outputs": [],
   "source": [
    "tabelan = Tabela()\n",
    "tabelan.criar(r[0]['res'])\n",
    "dicionario = {\"periodo\":\"Período\",\"frequencia\":\"Frequência\"}\n",
    "tabelan.renomear_coluna(dicionario)\n",
    "tabelan.coluna_num(['Frequência'])\n",
    "tabelan.df['Período'] = tabelan.df['Período'].apply(lambda x: x.replace(\"[\", \"\").replace(\",\", \" - \"))\n",
    "tabelan.df"
   ]
  },
  {
   "cell_type": "markdown",
   "id": "d98cdba0-8ae1-4fd5-b470-4129f3f62901",
   "metadata": {},
   "source": [
    "## Gerar o Arquivo de Excel e PDF"
   ]
  },
  {
   "cell_type": "markdown",
   "id": "19fba32a-35d9-4954-ab4b-ad0df9003448",
   "metadata": {},
   "source": [
    "- Criar arquivo Excel.\n",
    "- Criar planilha **Nome**.\n",
    "- Excluir planilha **Sheet**.\n",
    "- Importar dados da tabela.\n",
    "- Centralizar colunas.\n",
    "- Alinhar colunas.\n",
    "- Criar tabela de **Dados**.\n",
    "- Criar o gráfico.\n",
    "- Ocultar planilha de **Dados**.\n",
    "- Inserir duas linhas na planilha **Nome**.\n",
    "- Na célula **A1** inserir o texto **Gráfico Temporal**.\n",
    "- Formatar célula **A1** com tamanho de fonte 18, texto em negrito e com bordas.\n",
    "- Mesclar linhas **A1:L1**.\n",
    "- Formatar célula **A2** com a cor RGB **00CCCCFF**.\n",
    "- Mesclr linhas **A2:L2**.\n",
    "- Formatar célula **C3** com a cor RGB **00CCCCFF**.\n",
    "- Mesclr linhas **C3:L17**.\n",
    "- Formatar célula **A13** com a cor RGB **00CCCCFF**.\n",
    "- Mesclr linhas **A13:B17**.\n",
    "- Configurar impressão da planilha **Nome**.\n",
    "- Salvar arquivo **Excel**.\n",
    "- Imprimir planilha **Nome** em **PDF**."
   ]
  },
  {
   "cell_type": "code",
   "execution_count": null,
   "id": "85630c83-0af2-4327-8dd7-c393f30bf106",
   "metadata": {},
   "outputs": [],
   "source": [
    "Arquivo = Excel('Nome')\n",
    "\n",
    "pasta = Arquivo.pasta()\n",
    "\n",
    "planilha = Arquivo.planilha(pasta, 'Nome')\n",
    "\n",
    "Arquivo.excluir_planilha(pasta, 'Sheet')\n",
    "\n",
    "Arquivo.tabela(tabelan.df, planilha)\n",
    "\n",
    "Arquivo.form_centralizar(planilha, [\"A\", \"B\"])\n",
    "\n",
    "Arquivo.alinhar(planilha)\n",
    "\n",
    "planilhaDados = Arquivo.planilha(pasta, f'Dados {nome}')\n",
    "\n",
    "Arquivo.grafico_linha(planilha, planilhaDados, tabelan.df, f\"Gráfico Nome: {nome}\", \"Período\",  \"Frequência\", \"D3\", \"#,##0\")\n",
    "\n",
    "Arquivo.ocultar_planilha(planilhaDados)\n",
    "\n",
    "Arquivo.inserir_linha(planilha, 1, 2)\n",
    "\n",
    "Arquivo.escrever(planilha, 'A1', 'Gráfico Temporal')\n",
    "\n",
    "Arquivo.estilo(planilha, 'A1', 18, '00FFFFFF', True, True)\n",
    "\n",
    "Arquivo.mesclar(planilha, \"A1:L1\")\n",
    "\n",
    "Arquivo.estilo(planilha, 'A2', 11, '00CCCCFF', False, False, False)\n",
    "\n",
    "Arquivo.mesclar(planilha, \"A2:L2\")\n",
    "\n",
    "Arquivo.estilo(planilha, 'C3', 11, '00CCCCFF', False, False, False)\n",
    "\n",
    "Arquivo.mesclar(planilha, \"C3:L17\")\n",
    "\n",
    "Arquivo.estilo(planilha, 'A13', 11, '00CCCCFF', False, False, False)\n",
    "\n",
    "Arquivo.mesclar(planilha, \"A13:B17\")\n",
    "\n",
    "Arquivo.impressora(planilha)\n",
    "\n",
    "Arquivo.salvar(pasta)\n",
    "\n",
    "imprimir(0, 'Nome')"
   ]
  },
  {
   "cell_type": "markdown",
   "id": "40cedc82-4411-4fc5-9922-a97bb9336a5a",
   "metadata": {},
   "source": [
    "## Enviar Arquivos pelo Telegram"
   ]
  },
  {
   "cell_type": "markdown",
   "id": "c6a6c74c-3da5-435a-a7d7-c5177cbc7096",
   "metadata": {},
   "source": [
    "- Inicializar o bot.\n",
    "- enviar a mensagem \"💬 **Frequência Nome: {nome}** 💬\"\n",
    "- Enviar o arquivo **Excel**.\n",
    "- Enviar o arquivo **PDF**.\n",
    "- enviar a mensagem \"💬 **Frequência Nome: {nome}** 💬\""
   ]
  },
  {
   "cell_type": "code",
   "execution_count": null,
   "id": "dc0cc741-3ed2-421d-8eab-7b4e53a5ce54",
   "metadata": {},
   "outputs": [],
   "source": [
    "BOT = codigos(\"BOT\")\n",
    "USER = codigos(\"USER\")\n",
    "\n",
    "bot = Programa(BOT)\n",
    "\n",
    "bot.falar(USER, f\"💬 **Frequência Nome: {nome}** 💬\")\n",
    "\n",
    "bot.enviar_arquivo(USER, \"./Nome.xlsx\")\n",
    "\n",
    "bot.enviar_arquivo(USER, \"./Nome.png\")\n",
    "\n",
    "bot.falar(USER, f\"💬 **Frequência Nome: {nome}** 💬\")"
   ]
  }
 ],
 "metadata": {
  "kernelspec": {
   "display_name": "Python 3 (ipykernel)",
   "language": "python",
   "name": "python3"
  },
  "language_info": {
   "codemirror_mode": {
    "name": "ipython",
    "version": 3
   },
   "file_extension": ".py",
   "mimetype": "text/x-python",
   "name": "python",
   "nbconvert_exporter": "python",
   "pygments_lexer": "ipython3",
   "version": "3.10.9"
  }
 },
 "nbformat": 4,
 "nbformat_minor": 5
}
